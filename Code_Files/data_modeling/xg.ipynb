{
 "cells": [
  {
   "cell_type": "markdown",
   "metadata": {},
   "source": [
    "# With Weather Data - Using Base XgBoost Model"
   ]
  },
  {
   "cell_type": "code",
   "execution_count": 18,
   "metadata": {},
   "outputs": [
    {
     "data": {
      "text/plain": [
       "XGBRegressor(base_score=None, booster=None, callbacks=None,\n",
       "             colsample_bylevel=None, colsample_bynode=None,\n",
       "             colsample_bytree=None, device=None, early_stopping_rounds=None,\n",
       "             enable_categorical=False, eval_metric=None, feature_types=None,\n",
       "             gamma=None, grow_policy=None, importance_type=None,\n",
       "             interaction_constraints=None, learning_rate=None, max_bin=None,\n",
       "             max_cat_threshold=None, max_cat_to_onehot=None,\n",
       "             max_delta_step=None, max_depth=None, max_leaves=None,\n",
       "             min_child_weight=None, missing=nan, monotone_constraints=None,\n",
       "             multi_strategy=None, n_estimators=None, n_jobs=None,\n",
       "             num_parallel_tree=None, random_state=42, ...)"
      ]
     },
     "execution_count": 18,
     "metadata": {},
     "output_type": "execute_result"
    }
   ],
   "source": [
    "import pickle\n",
    "\n",
    "import pandas as pd\n",
    "import numpy as np\n",
    "import xgboost as xgb\n",
    "from sklearn.metrics import mean_squared_error, mean_absolute_error, r2_score\n",
    "\n",
    "# Define file paths\n",
    "folder = \"clean_data/\"\n",
    "file_path1 = \"train.csv\"\n",
    "file_path2 = \"test.csv\"\n",
    "\n",
    "# Load the CSV files into Pandas DataFrames\n",
    "train_df = pd.read_csv(folder + file_path1)\n",
    "test_df = pd.read_csv(folder + file_path2)\n",
    "\n",
    "# Split the train and test datasets into features and target variable\n",
    "X_train = train_df.drop(columns=[\"On\", \"Off\"])\n",
    "y_train = train_df[\"On\"]\n",
    "X_test = test_df.drop(columns=[\"On\", \"Off\"])\n",
    "y_test = test_df[\"On\"]\n",
    "\n",
    "# Initialize XGBoost regressor\n",
    "xgb_reg = xgb.XGBRegressor(random_state=42, verbosity=2)\n",
    "\n",
    "# Train the model\n",
    "xgb_reg.fit(X_train, y_train)"
   ]
  },
  {
   "cell_type": "code",
   "execution_count": 19,
   "metadata": {},
   "outputs": [
    {
     "name": "stdout",
     "output_type": "stream",
     "text": [
      "train rmse: 26.297237310405524, mae: 8.858496868925462, r2: 0.7192590653982296\n",
      "test rmse: 25.880109060143795, mae: 9.397562238620713, r2: 0.7128963222062918\n"
     ]
    }
   ],
   "source": [
    "\n",
    "# Make predictions\n",
    "y_pred = np.floor(xgb_reg.predict(X_train)).astype(int)\n",
    "r2 = r2_score(y_train, y_pred)\n",
    "rmse = np.sqrt(mean_squared_error(y_train, y_pred))\n",
    "mae = mean_absolute_error(y_train, y_pred)\n",
    "print(f\"train rmse: {rmse}, mae: {mae}, r2: {r2}\")\n",
    "\n",
    "y_pred = np.floor(xgb_reg.predict(X_test)).astype(int)\n",
    "r2 = r2_score(y_test, y_pred)\n",
    "rmse = np.sqrt(mean_squared_error(y_test, y_pred))\n",
    "mae = mean_absolute_error(y_test, y_pred)\n",
    "print(f\"test rmse: {rmse}, mae: {mae}, r2: {r2}\")\n",
    "\n",
    "pickle.dump(xgb_reg, open(\"models/base_xgboost_with_weather.pkl\", \"wb\"))"
   ]
  },
  {
   "cell_type": "markdown",
   "metadata": {},
   "source": [
    "# With Weather Data - Using Fine Tuning on XgBoost Model"
   ]
  },
  {
   "cell_type": "code",
   "execution_count": 10,
   "metadata": {
    "colab": {
     "base_uri": "https://localhost:8080/",
     "height": 738
    },
    "executionInfo": {
     "elapsed": 259324,
     "status": "ok",
     "timestamp": 1714200694017,
     "user": {
      "displayName": "machine learning",
      "userId": "03585378499794532537"
     },
     "user_tz": 420
    },
    "id": "P4zXZZa-K52k",
    "outputId": "9dc328bf-d690-4474-d52b-6f0cf5f64b88"
   },
   "outputs": [],
   "source": [
    "import numpy as np\n",
    "import polars as pl\n",
    "import pickle\n",
    "import matplotlib.pyplot as plt\n",
    "import xgboost as xgb\n",
    "from sklearn.model_selection import GridSearchCV\n",
    "from sklearn.metrics import explained_variance_score, max_error, mean_absolute_error, mean_squared_error, \\\n",
    "    mean_squared_log_error, median_absolute_error, r2_score, mean_poisson_deviance, mean_gamma_deviance, \\\n",
    "    mean_absolute_percentage_error, mean_squared_error\n",
    "\n",
    "# from google.colab import drive\n",
    "\n",
    "# Mount Google Drive\n",
    "# drive.mount('/content/drive')\n",
    "\n",
    "folder = \"clean_data/\"\n",
    "file_path1 = \"train.csv\"\n",
    "file_path2 = \"test.csv\"\n",
    "\n",
    "# Load the CSV file into a Polars DataFrame\n",
    "train_df = pd.read_csv(folder + file_path1)\n",
    "test_df = pd.read_csv(folder + file_path2)\n",
    "\n",
    "# Convert Polars LazyFrame to pandas DataFrame\n",
    "# train_df = train_df.collect()\n",
    "# test_df = test_df.collect().to_pandas()\n",
    "\n",
    "# Split the Train dataset into features and target variable\n",
    "X_train = train_df.drop(columns=[\"On\", \"Off\"])\n",
    "y_train = train_df[\"On\"]\n",
    "\n",
    "# Split the test dataset into features and target variable\n",
    "X_test = test_df.drop(columns=[\"On\",\"Off\"])\n",
    "y_test = test_df[\"On\"]\n"
   ]
  },
  {
   "cell_type": "markdown",
   "metadata": {},
   "source": [
    "### Using Grid Search to find the Best Hyperparameters"
   ]
  },
  {
   "cell_type": "code",
   "execution_count": 12,
   "metadata": {},
   "outputs": [],
   "source": [
    "# Initialize XGBoost regressor\n",
    "xgb_reg = xgb.XGBRegressor(random_state=42, verbosity=1)\n",
    "\n",
    "# Define the hyperparameter grid\n",
    "param_grid = {\n",
    "    'max_depth': [3, 5, 7],\n",
    "    'learning_rate': [0.1, 0.01, 0.001],\n",
    "    'subsample': [0.5, 0.7, 1]\n",
    "}\n",
    "\n",
    "# Initialize GridSearchCV\n",
    "grid_search = GridSearchCV(estimator=xgb_reg, param_grid=param_grid, \n",
    "                           cv=3, scoring='neg_mean_squared_error', n_jobs=-1, verbose=2)\n",
    "\n",
    "# Perform grid search\n",
    "grid_search.fit(X_train, y_train)\n",
    "\n",
    "# Print the best hyperparameters\n",
    "print(\"Best Hyperparameters:\", grid_search.best_params_)"
   ]
  },
  {
   "cell_type": "markdown",
   "metadata": {},
   "source": [
    "### Using the Best Model after tuning the hyperparameters for Prediction"
   ]
  },
  {
   "cell_type": "code",
   "execution_count": null,
   "metadata": {},
   "outputs": [],
   "source": [
    "# Get the best model\n",
    "best_model = grid_search.best_estimator_\n",
    "\n",
    "# Predict on the test set\n",
    "# Make predictions\n",
    "y_pred = np.floor(best_model.predict(X_train)).astype(int)\n",
    "r2 = r2_score(y_train, y_pred)\n",
    "rmse = np.sqrt(mean_squared_error(y_train, y_pred))\n",
    "mae = mean_absolute_error(y_train, y_pred)\n",
    "print(f\"train rmse: {rmse}, mae: {mae}, r2: {r2}\")\n",
    "\n",
    "y_pred = np.floor(best_model.predict(X_test)).astype(int)\n",
    "r2 = r2_score(y_test, y_pred)\n",
    "rmse = np.sqrt(mean_squared_error(y_test, y_pred))\n",
    "mae = mean_absolute_error(y_test, y_pred)\n",
    "print(f\"test rmse: {rmse}, mae: {mae}, r2: {r2}\")\n",
    "\n",
    "pickle.dump(best_model, open(\"models/tuned_xgboost_with_weather.pkl\", \"wb\"))"
   ]
  },
  {
   "cell_type": "code",
   "execution_count": 9,
   "metadata": {},
   "outputs": [
    {
     "name": "stdout",
     "output_type": "stream",
     "text": [
      "[CV] END ......learning_rate=0.001, max_depth=3, subsample=1; total time= 1.3min\n",
      "[CV] END ......learning_rate=0.001, max_depth=5, subsample=1; total time= 2.0min\n",
      "[CV] END .....learning_rate=0.01, max_depth=7, subsample=0.7; total time= 2.3min\n",
      "[CV] END ....learning_rate=0.001, max_depth=5, subsample=0.7; total time= 2.1min\n",
      "[CV] END .....learning_rate=0.01, max_depth=7, subsample=0.7; total time= 2.3min\n",
      "[CV] END ....learning_rate=0.001, max_depth=5, subsample=0.7; total time= 2.1min\n",
      "[CV] END ....learning_rate=0.001, max_depth=3, subsample=0.5; total time= 1.4min\n",
      "[CV] END ......learning_rate=0.001, max_depth=5, subsample=1; total time= 2.0min\n",
      "[CV] END .......learning_rate=0.01, max_depth=7, subsample=1; total time= 2.2min\n",
      "[CV] END ....learning_rate=0.001, max_depth=5, subsample=0.5; total time= 2.1min\n",
      "[CV] END ....learning_rate=0.001, max_depth=3, subsample=0.7; total time= 1.4min\n",
      "[CV] END ......learning_rate=0.001, max_depth=5, subsample=1; total time= 2.0min\n",
      "[CV] END .....learning_rate=0.01, max_depth=7, subsample=0.7; total time= 2.3min\n",
      "[CV] END ....learning_rate=0.001, max_depth=5, subsample=0.7; total time= 2.1min\n",
      "[CV] END ....learning_rate=0.001, max_depth=3, subsample=0.7; total time= 1.4min\n",
      "[CV] END ....learning_rate=0.001, max_depth=7, subsample=0.5; total time= 2.5min\n",
      "[CV] END ....learning_rate=0.001, max_depth=3, subsample=0.7; total time= 1.4min\n",
      "[CV] END ....learning_rate=0.001, max_depth=7, subsample=0.5; total time= 2.6min\n",
      "[CV] END ....learning_rate=0.001, max_depth=3, subsample=0.5; total time= 1.5min\n",
      "[CV] END ....learning_rate=0.001, max_depth=7, subsample=0.5; total time= 2.6min\n",
      "[CV] END ....learning_rate=0.001, max_depth=7, subsample=0.7; total time= 2.3min\n",
      "[CV] END ....learning_rate=0.001, max_depth=7, subsample=0.7; total time= 2.3min\n",
      "[CV] END ......learning_rate=0.001, max_depth=3, subsample=1; total time= 1.4min\n",
      "[CV] END ......learning_rate=0.001, max_depth=7, subsample=1; total time= 2.1min\n"
     ]
    }
   ],
   "source": []
  },
  {
   "cell_type": "markdown",
   "metadata": {},
   "source": [
    "# Without Weather data - Using Base Xgboost Model"
   ]
  },
  {
   "cell_type": "code",
   "execution_count": 15,
   "metadata": {},
   "outputs": [
    {
     "name": "stdout",
     "output_type": "stream",
     "text": [
      "train rmse: 26.523086229898002, mae: 8.759609837032043, r2: 0.7144161758464848\n",
      "test rmse: 25.600350158112466, mae: 9.023667829585897, r2: 0.7190698424793321\n"
     ]
    }
   ],
   "source": [
    "\n",
    "# Define file paths\n",
    "folder = \"clean_data/\"\n",
    "file_path1 = \"train_wo_weather.csv\"\n",
    "file_path2 = \"test_wo_weather.csv\"\n",
    "\n",
    "# Load the CSV files into Pandas DataFrames\n",
    "train_df = pd.read_csv(folder + file_path1)\n",
    "test_df = pd.read_csv(folder + file_path2)\n",
    "\n",
    "# Split the train and test datasets into features and target variable\n",
    "X_train = train_df.drop(columns=[\"On\", \"Off\"])\n",
    "y_train = train_df[\"On\"]\n",
    "X_test = test_df.drop(columns=[\"On\", \"Off\"])\n",
    "y_test = test_df[\"On\"]\n",
    "\n",
    "# Initialize XGBoost regressor\n",
    "xgb_reg = xgb.XGBRegressor(random_state=42, verbosity=2)\n",
    "\n",
    "# Train the model\n",
    "xgb_reg.fit(X_train, y_train)\n",
    "\n",
    "\n",
    "# Make predictions\n",
    "y_pred = np.floor(xgb_reg.predict(X_train)).astype(int)\n",
    "r2 = r2_score(y_train, y_pred)\n",
    "rmse = np.sqrt(mean_squared_error(y_train, y_pred))\n",
    "mae = mean_absolute_error(y_train, y_pred)\n",
    "print(f\"train rmse: {rmse}, mae: {mae}, r2: {r2}\")\n",
    "\n",
    "y_pred = np.floor(xgb_reg.predict(X_test)).astype(int)\n",
    "r2 = r2_score(y_test, y_pred)\n",
    "rmse = np.sqrt(mean_squared_error(y_test, y_pred))\n",
    "mae = mean_absolute_error(y_test, y_pred)\n",
    "print(f\"test rmse: {rmse}, mae: {mae}, r2: {r2}\")\n",
    "\n",
    "pickle.dump(xgb_reg, open(\"models/base_xgboost_wo_weather.pkl\", \"wb\"))"
   ]
  },
  {
   "cell_type": "markdown",
   "metadata": {},
   "source": [
    "# Without Weather data - Using Fine Tuned Xgboost Model"
   ]
  },
  {
   "cell_type": "code",
   "execution_count": 16,
   "metadata": {},
   "outputs": [
    {
     "name": "stdout",
     "output_type": "stream",
     "text": [
      "Fitting 3 folds for each of 27 candidates, totalling 81 fits\n",
      "[CV] END ........learning_rate=0.1, max_depth=3, subsample=1; total time= 1.6min\n",
      "[CV] END ........learning_rate=0.1, max_depth=5, subsample=1; total time= 2.2min\n",
      "[CV] END .......learning_rate=0.01, max_depth=3, subsample=1; total time= 1.4min\n"
     ]
    },
    {
     "name": "stderr",
     "output_type": "stream",
     "text": [
      "/usr/local/anaconda3/lib/python3.9/site-packages/joblib/externals/loky/process_executor.py:702: UserWarning: A worker stopped while some jobs were given to the executor. This can be caused by a too short worker timeout or by a memory leak.\n",
      "  warnings.warn(\n"
     ]
    },
    {
     "name": "stdout",
     "output_type": "stream",
     "text": [
      "[CV] END ........learning_rate=0.1, max_depth=3, subsample=1; total time= 1.6min\n",
      "[CV] END ........learning_rate=0.1, max_depth=5, subsample=1; total time= 2.1min\n",
      "[CV] END .....learning_rate=0.01, max_depth=3, subsample=0.7; total time= 1.5min\n",
      "[CV] END ......learning_rate=0.1, max_depth=5, subsample=0.5; total time= 2.2min\n",
      "[CV] END .....learning_rate=0.01, max_depth=3, subsample=0.5; total time= 1.7min\n",
      "[CV] END .......learning_rate=0.01, max_depth=3, subsample=1; total time= 1.3min\n",
      "[CV] END ......learning_rate=0.1, max_depth=5, subsample=0.5; total time= 2.2min\n",
      "[CV] END .....learning_rate=0.01, max_depth=3, subsample=0.7; total time= 1.7min\n",
      "[CV] END .......learning_rate=0.01, max_depth=3, subsample=1; total time= 1.4min\n",
      "[CV] END ......learning_rate=0.1, max_depth=5, subsample=0.5; total time= 2.2min\n",
      "[CV] END .....learning_rate=0.01, max_depth=3, subsample=0.5; total time= 1.8min\n",
      "[CV] END .....learning_rate=0.01, max_depth=5, subsample=0.5; total time= 1.9min\n",
      "[CV] END ......learning_rate=0.1, max_depth=5, subsample=0.7; total time= 2.2min\n",
      "[CV] END .....learning_rate=0.01, max_depth=3, subsample=0.5; total time= 1.8min\n",
      "[CV] END .....learning_rate=0.01, max_depth=5, subsample=0.5; total time= 1.9min\n",
      "[CV] END ......learning_rate=0.1, max_depth=5, subsample=0.7; total time= 2.2min\n",
      "[CV] END .....learning_rate=0.01, max_depth=3, subsample=0.7; total time= 1.8min\n",
      "[CV] END .....learning_rate=0.01, max_depth=5, subsample=0.5; total time= 2.0min\n",
      "[CV] END ......learning_rate=0.1, max_depth=3, subsample=0.7; total time= 1.7min\n",
      "[CV] END ......learning_rate=0.1, max_depth=7, subsample=0.5; total time= 2.8min\n",
      "[CV] END .......learning_rate=0.01, max_depth=5, subsample=1; total time= 1.8min\n",
      "[CV] END ......learning_rate=0.1, max_depth=3, subsample=0.5; total time= 1.8min\n",
      "[CV] END ......learning_rate=0.1, max_depth=7, subsample=0.7; total time= 2.8min\n",
      "[CV] END .......learning_rate=0.01, max_depth=5, subsample=1; total time= 1.8min\n",
      "[CV] END ......learning_rate=0.1, max_depth=3, subsample=0.5; total time= 1.8min\n",
      "[CV] END ........learning_rate=0.1, max_depth=7, subsample=1; total time= 2.7min\n",
      "[CV] END .....learning_rate=0.01, max_depth=5, subsample=0.7; total time= 1.9min\n",
      "[CV] END ......learning_rate=0.1, max_depth=3, subsample=0.7; total time= 1.8min\n",
      "[CV] END ......learning_rate=0.1, max_depth=7, subsample=0.7; total time= 2.8min\n",
      "[CV] END .......learning_rate=0.01, max_depth=5, subsample=1; total time= 1.8min\n",
      "[CV] END ......learning_rate=0.1, max_depth=3, subsample=0.7; total time= 1.7min\n",
      "[CV] END ......learning_rate=0.1, max_depth=7, subsample=0.5; total time= 2.8min\n",
      "[CV] END .....learning_rate=0.01, max_depth=5, subsample=0.7; total time= 1.9min\n",
      "[CV] END ........learning_rate=0.1, max_depth=3, subsample=1; total time= 1.6min\n",
      "[CV] END ......learning_rate=0.1, max_depth=7, subsample=0.5; total time= 2.9min\n",
      "[CV] END .....learning_rate=0.01, max_depth=5, subsample=0.7; total time= 1.9min\n",
      "[CV] END ......learning_rate=0.1, max_depth=3, subsample=0.5; total time= 1.8min\n",
      "[CV] END ......learning_rate=0.1, max_depth=7, subsample=0.7; total time= 2.8min\n",
      "[CV] END .....learning_rate=0.01, max_depth=7, subsample=0.5; total time= 2.4min\n",
      "[CV] END ........learning_rate=0.1, max_depth=5, subsample=1; total time= 2.1min\n",
      "[CV] END ........learning_rate=0.1, max_depth=7, subsample=1; total time= 2.6min\n",
      "[CV] END .....learning_rate=0.01, max_depth=7, subsample=0.5; total time= 2.4min\n",
      "[CV] END ......learning_rate=0.1, max_depth=5, subsample=0.7; total time= 2.2min\n",
      "[CV] END ........learning_rate=0.1, max_depth=7, subsample=1; total time= 2.6min\n",
      "[CV] END .....learning_rate=0.01, max_depth=7, subsample=0.5; total time= 2.4min\n",
      "[CV] END ......learning_rate=0.001, max_depth=3, subsample=1; total time= 1.4min\n",
      "[CV] END ....learning_rate=0.001, max_depth=7, subsample=0.5; total time= 2.3min\n",
      "[CV] END ....learning_rate=0.001, max_depth=3, subsample=0.5; total time= 1.5min\n",
      "[CV] END ....learning_rate=0.001, max_depth=5, subsample=0.5; total time= 2.0min\n",
      "[CV] END ......learning_rate=0.001, max_depth=7, subsample=1; total time= 1.5min\n",
      "Best Hyperparameters: {'learning_rate': 0.1, 'max_depth': 7, 'subsample': 0.7}\n",
      "train rmse: 27.365871664641634, mae: 9.540672361639395, r2: 0.6959786646525394\n",
      "test rmse: 25.946126104306124, mae: 9.408563535713748, r2: 0.7114297201543338\n",
      "[CV] END ....learning_rate=0.001, max_depth=3, subsample=0.7; total time= 1.6min\n",
      "[CV] END ......learning_rate=0.001, max_depth=5, subsample=1; total time= 1.8min\n",
      "[CV] END ......learning_rate=0.001, max_depth=3, subsample=1; total time= 1.6min\n",
      "[CV] END ......learning_rate=0.001, max_depth=5, subsample=1; total time= 1.8min\n",
      "[CV] END ....learning_rate=0.001, max_depth=3, subsample=0.5; total time= 1.6min\n",
      "[CV] END ....learning_rate=0.001, max_depth=5, subsample=0.7; total time= 1.9min\n",
      "[CV] END ....learning_rate=0.001, max_depth=3, subsample=0.7; total time= 1.6min\n",
      "[CV] END ....learning_rate=0.001, max_depth=5, subsample=0.7; total time= 1.9min\n",
      "[CV] END ....learning_rate=0.001, max_depth=3, subsample=0.7; total time= 1.6min\n",
      "[CV] END ....learning_rate=0.001, max_depth=5, subsample=0.7; total time= 1.9min\n",
      "[CV] END ....learning_rate=0.001, max_depth=3, subsample=0.5; total time= 1.6min\n",
      "[CV] END ....learning_rate=0.001, max_depth=5, subsample=0.5; total time= 2.0min\n",
      "[CV] END ......learning_rate=0.001, max_depth=3, subsample=1; total time= 1.4min\n",
      "[CV] END ......learning_rate=0.001, max_depth=5, subsample=1; total time= 1.8min\n",
      "[CV] END .......learning_rate=0.01, max_depth=7, subsample=1; total time= 2.4min\n",
      "[CV] END ....learning_rate=0.001, max_depth=7, subsample=0.5; total time= 2.2min\n",
      "[CV] END .....learning_rate=0.01, max_depth=7, subsample=0.7; total time= 2.5min\n",
      "[CV] END ......learning_rate=0.001, max_depth=7, subsample=1; total time= 2.1min\n",
      "[CV] END .....learning_rate=0.01, max_depth=7, subsample=0.7; total time= 2.5min\n",
      "[CV] END ....learning_rate=0.001, max_depth=7, subsample=0.7; total time= 2.2min\n",
      "[CV] END .......learning_rate=0.01, max_depth=7, subsample=1; total time= 2.4min\n",
      "[CV] END ....learning_rate=0.001, max_depth=7, subsample=0.5; total time= 2.3min\n",
      "[CV] END .......learning_rate=0.01, max_depth=7, subsample=1; total time= 2.5min\n",
      "[CV] END ....learning_rate=0.001, max_depth=7, subsample=0.7; total time= 2.2min\n",
      "[CV] END .....learning_rate=0.01, max_depth=7, subsample=0.7; total time= 2.5min\n",
      "[CV] END ....learning_rate=0.001, max_depth=7, subsample=0.7; total time= 2.2min\n",
      "[CV] END ....learning_rate=0.001, max_depth=5, subsample=0.5; total time= 1.8min\n",
      "[CV] END ......learning_rate=0.001, max_depth=7, subsample=1; total time= 1.9min\n"
     ]
    }
   ],
   "source": [
    "# Define file paths\n",
    "folder = \"clean_data/\"\n",
    "file_path1 = \"train_wo_weather.csv\"\n",
    "file_path2 = \"test_wo_weather.csv\"\n",
    "\n",
    "# Load the CSV files into Pandas DataFrames\n",
    "train_df = pd.read_csv(folder + file_path1)\n",
    "test_df = pd.read_csv(folder + file_path2)\n",
    "\n",
    "# Split the train and test datasets into features and target variable\n",
    "X_train = train_df.drop(columns=[\"On\", \"Off\"])\n",
    "y_train = train_df[\"On\"]\n",
    "X_test = test_df.drop(columns=[\"On\", \"Off\"])\n",
    "y_test = test_df[\"On\"]\n",
    "\n",
    "# Define the hyperparameter grid\n",
    "param_grid = {\n",
    "    'max_depth': [3, 5, 7],\n",
    "    'learning_rate': [0.1, 0.01, 0.001],\n",
    "    'subsample': [0.5, 0.7, 1]\n",
    "}\n",
    "\n",
    "# Initialize XGBoost regressor\n",
    "xgb_reg = xgb.XGBRegressor(random_state=42, verbosity=1)\n",
    "\n",
    "# Initialize GridSearchCV\n",
    "grid_search = GridSearchCV(estimator=xgb_reg, param_grid=param_grid, \n",
    "                           cv=3, scoring='neg_mean_squared_error', n_jobs=-1, verbose=2)\n",
    "\n",
    "\n",
    "# Perform grid search\n",
    "grid_search.fit(X_train, y_train)\n",
    "\n",
    "# Print the best hyperparameters\n",
    "print(\"Best Hyperparameters:\", grid_search.best_params_)\n",
    "\n",
    "# Get the best model\n",
    "best_model = grid_search.best_estimator_\n",
    "\n",
    "# Predict on the test set\n",
    "# Make predictions\n",
    "y_pred = np.floor(best_model.predict(X_train)).astype(int)\n",
    "r2 = r2_score(y_train, y_pred)\n",
    "rmse = np.sqrt(mean_squared_error(y_train, y_pred))\n",
    "mae = mean_absolute_error(y_train, y_pred)\n",
    "print(f\"train rmse: {rmse}, mae: {mae}, r2: {r2}\")\n",
    "\n",
    "y_pred = np.floor(best_model.predict(X_test)).astype(int)\n",
    "r2 = r2_score(y_test, y_pred)\n",
    "rmse = np.sqrt(mean_squared_error(y_test, y_pred))\n",
    "mae = mean_absolute_error(y_test, y_pred)\n",
    "print(f\"test rmse: {rmse}, mae: {mae}, r2: {r2}\")\n",
    "\n",
    "pickle.dump(best_model, open(\"models/tuned_xgboost_wo_weather.pkl\", \"wb\"))"
   ]
  }
 ],
 "metadata": {
  "colab": {
   "authorship_tag": "ABX9TyNCXlQ7EoksVWZjxLehwPCO",
   "provenance": []
  },
  "kernelspec": {
   "display_name": "Python 3 (ipykernel)",
   "language": "python",
   "name": "python3"
  },
  "language_info": {
   "codemirror_mode": {
    "name": "ipython",
    "version": 3
   },
   "file_extension": ".py",
   "mimetype": "text/x-python",
   "name": "python",
   "nbconvert_exporter": "python",
   "pygments_lexer": "ipython3",
   "version": "3.9.12"
  }
 },
 "nbformat": 4,
 "nbformat_minor": 1
}
